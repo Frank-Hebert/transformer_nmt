{
  "nbformat": 4,
  "nbformat_minor": 0,
  "metadata": {
    "colab": {
      "name": "transfo_nmt.ipynb",
      "provenance": []
    },
    "kernelspec": {
      "name": "python3",
      "display_name": "Python 3"
    },
    "accelerator": "GPU"
  },
  "cells": [
    {
      "cell_type": "code",
      "metadata": {
        "colab": {
          "base_uri": "https://localhost:8080/"
        },
        "id": "puAgB6d5Wuw8",
        "outputId": "251d2fd8-a24e-4c7b-e528-23ed12c1537f"
      },
      "source": [
        "!pwd"
      ],
      "execution_count": null,
      "outputs": [
        {
          "output_type": "stream",
          "text": [
            "/content\n"
          ],
          "name": "stdout"
        }
      ]
    },
    {
      "cell_type": "code",
      "metadata": {
        "id": "NsA-7NHGWzXK"
      },
      "source": [
        "!git clone "
      ],
      "execution_count": null,
      "outputs": []
    },
    {
      "cell_type": "code",
      "metadata": {
        "id": "ypm_OkzbW--i"
      },
      "source": [
        "!python -m spacy download en_core_web_sm"
      ],
      "execution_count": null,
      "outputs": []
    },
    {
      "cell_type": "code",
      "metadata": {
        "id": "939nmkKWXnwK"
      },
      "source": [
        "!python -m spacy download de_core_news_sm"
      ],
      "execution_count": null,
      "outputs": []
    },
    {
      "cell_type": "code",
      "metadata": {
        "colab": {
          "base_uri": "https://localhost:8080/"
        },
        "id": "ROrOFrKxXrNW",
        "outputId": "aed50770-5907-426a-ca5b-b75420df0d20"
      },
      "source": [
        "%cd /content/transformer_nmt"
      ],
      "execution_count": null,
      "outputs": [
        {
          "output_type": "stream",
          "text": [
            "/content/transformer_nmt\n"
          ],
          "name": "stdout"
        }
      ]
    },
    {
      "cell_type": "code",
      "metadata": {
        "colab": {
          "base_uri": "https://localhost:8080/"
        },
        "id": "3eMhiOdgX0qt",
        "outputId": "0f2daba4-d429-481e-9b56-faacfc39539a"
      },
      "source": [
        "!python transfo.py"
      ],
      "execution_count": null,
      "outputs": [
        {
          "output_type": "stream",
          "text": [
            "Traceback (most recent call last):\n",
            "  File \"transfo.py\", line 18, in <module>\n",
            "    from torchtext.datasets import Multi30k\n",
            "ImportError: cannot import name 'Multi30k' from 'torchtext.datasets' (/usr/local/lib/python3.7/dist-packages/torchtext/datasets/__init__.py)\n"
          ],
          "name": "stdout"
        }
      ]
    },
    {
      "cell_type": "code",
      "metadata": {
        "id": "NHujL6kQX2vD"
      },
      "source": [
        "pip install torchtext==0.6.0"
      ],
      "execution_count": null,
      "outputs": []
    },
    {
      "cell_type": "code",
      "metadata": {
        "colab": {
          "base_uri": "https://localhost:8080/"
        },
        "id": "R6fhcFSvX84u",
        "outputId": "02b1daa7-b403-4732-bbe4-5a25a8870637"
      },
      "source": [
        "!python transfo.py"
      ],
      "execution_count": null,
      "outputs": [
        {
          "output_type": "stream",
          "text": [
            "downloading training.tar.gz\n",
            "training.tar.gz: 100% 1.21M/1.21M [00:01<00:00, 864kB/s]\n",
            "downloading validation.tar.gz\n",
            "validation.tar.gz: 100% 46.3k/46.3k [00:00<00:00, 249kB/s]\n",
            "downloading mmt_task1_test2016.tar.gz\n",
            "mmt_task1_test2016.tar.gz: 100% 66.2k/66.2k [00:00<00:00, 236kB/s]\n",
            "2021-03-12 16:58:53.296826: I tensorflow/stream_executor/platform/default/dso_loader.cc:49] Successfully opened dynamic library libcudart.so.11.0\n",
            "[Epoch 0 / 10000]\n",
            "=> Saving checkpoint\n",
            "Translated example sentence: \n",
            " ['house', 'push', 'jumping', 'bagpipes', 'joe', 'manicured', 'house', 'green', 'house', 'jumping', 'green', 'roping', 'jumping', 'skate', 'atyl', 'jumping', 'jumping', 'atyl', 'green', 'roping', 'winks', 'gets', 'push', 'jumping', 'manicured', 'house', 'green', 'green', 'roping', 'house', 'house', 'green', 'push', '<unk>', 'creature', 'push', 'dappled', 'joe', 'joe', 'joe', 'joe', 'joe', 'joe', 'dappled', 'jumping', 'green', 'roping', 'jumping', 'skate', 'canister']\n",
            "[Epoch 1 / 10000]\n",
            "=> Saving checkpoint\n",
            "Translated example sentence: \n",
            " ['a', 'horse', 'walks', 'under', 'a', 'bridge', 'next', 'to', 'a', 'boat', '.', '<eos>']\n",
            "[Epoch 2 / 10000]\n",
            "=> Saving checkpoint\n",
            "Translated example sentence: \n",
            " ['a', 'horse', 'is', 'walking', 'under', 'a', 'boat', 'next', 'to', 'a', 'boat', '.', '<eos>']\n",
            "[Epoch 3 / 10000]\n",
            "=> Saving checkpoint\n",
            "Translated example sentence: \n",
            " ['a', 'horse', 'is', 'walking', 'under', 'a', 'bridge', 'next', 'to', 'a', 'boat', '.', '<eos>']\n",
            "[Epoch 4 / 10000]\n",
            "=> Saving checkpoint\n",
            "Translated example sentence: \n",
            " ['a', 'horse', 'is', 'walking', 'under', 'a', 'bridge', 'next', 'to', 'a', 'boat', '.', '<eos>']\n",
            "[Epoch 5 / 10000]\n",
            "=> Saving checkpoint\n",
            "Translated example sentence: \n",
            " ['a', 'horse', 'walks', 'under', 'a', 'bridge', 'next', 'to', 'a', 'boat', '.', '<eos>']\n",
            "[Epoch 6 / 10000]\n",
            "=> Saving checkpoint\n",
            "Translated example sentence: \n",
            " ['a', 'horse', 'is', 'walking', 'under', 'a', 'boat', 'next', 'to', 'a', 'boat', '.', '<eos>']\n",
            "[Epoch 7 / 10000]\n",
            "=> Saving checkpoint\n",
            "Translated example sentence: \n",
            " ['a', 'horse', 'is', 'walking', 'under', 'a', 'bridge', 'next', 'to', 'a', 'boat', '.', '<eos>']\n",
            "[Epoch 8 / 10000]\n",
            "=> Saving checkpoint\n",
            "Translated example sentence: \n",
            " ['a', 'horse', 'is', 'walking', 'under', 'a', 'bridge', 'next', 'to', 'a', 'boat', '.', '<eos>']\n",
            "[Epoch 9 / 10000]\n",
            "=> Saving checkpoint\n",
            "Translated example sentence: \n",
            " ['a', 'horse', 'is', 'walking', 'under', 'a', 'bridge', 'next', 'to', 'a', 'bridge', '.', '<eos>']\n",
            "[Epoch 10 / 10000]\n",
            "=> Saving checkpoint\n",
            "Translated example sentence: \n",
            " ['a', 'horse', 'is', 'walking', 'under', 'a', 'bridge', 'next', 'to', 'a', 'boat', '.', '<eos>']\n",
            "[Epoch 11 / 10000]\n",
            "=> Saving checkpoint\n",
            "Translated example sentence: \n",
            " ['a', 'horse', 'is', 'walking', 'underneath', 'a', 'bridge', 'next', 'to', 'a', 'bridge', '.', '<eos>']\n",
            "Traceback (most recent call last):\n",
            "  File \"/usr/local/lib/python3.7/dist-packages/torch/autograd/grad_mode.py\", line 27, in decorate_context\n",
            "    return func(*args, **kwargs)\n",
            "  File \"/usr/local/lib/python3.7/dist-packages/torch/optim/adam.py\", line 80, in step\n",
            "    if p.grad.is_sparse:\n",
            "  File \"/usr/local/lib/python3.7/dist-packages/torch/tensor.py\", line 924, in grad\n",
            "    return self._grad\n",
            "KeyboardInterrupt\n",
            "\n",
            "During handling of the above exception, another exception occurred:\n",
            "\n",
            "Traceback (most recent call last):\n",
            "  File \"transfo.py\", line 243, in <module>\n",
            "    optimizer.step()\n",
            "  File \"/usr/local/lib/python3.7/dist-packages/torch/optim/optimizer.py\", line 89, in wrapper\n",
            "    return func(*args, **kwargs)\n",
            "  File \"/usr/local/lib/python3.7/dist-packages/torch/autograd/grad_mode.py\", line 27, in decorate_context\n",
            "    return func(*args, **kwargs)\n",
            "KeyboardInterrupt\n"
          ],
          "name": "stdout"
        }
      ]
    },
    {
      "cell_type": "code",
      "metadata": {
        "id": "qfG1mMewYD5G"
      },
      "source": [
        ""
      ],
      "execution_count": null,
      "outputs": []
    }
  ]
}