{
  "nbformat": 4,
  "nbformat_minor": 0,
  "metadata": {
    "colab": {
      "name": "transfer_learning_nmt.ipynb",
      "provenance": []
    },
    "kernelspec": {
      "name": "python3",
      "display_name": "Python 3",
      "language": "python"
    },
    "language_info": {
      "name": "python",
      "version": "3.8.5"
    }
  },
  "cells": [
    {
      "cell_type": "markdown",
      "metadata": {
        "id": "e0obf-QVXDBW"
      },
      "source": [
        "1. Clone the git repo"
      ]
    },
    {
      "cell_type": "code",
      "execution_count": null,
      "metadata": {},
      "outputs": [],
      "source": [
        "!git clone https://github.com/Frank-Hebert/transformer_nmt.git\n",
        "%cd /content/transformer_nmt "
      ]
    },
    {
      "cell_type": "markdown",
      "metadata": {
        "id": "10KBSRnCXAts"
      },
      "source": [
        "2. Install Librairies"
      ]
    },
    {
      "cell_type": "code",
      "metadata": {
        "id": "f7XA6xmzW6rF"
      },
      "source": [
        "pip install torchtext==0.6.0"
      ],
      "execution_count": null,
      "outputs": []
    },
    {
      "cell_type": "code",
      "metadata": {
        "id": "xOJqqd_4W8Qv"
      },
      "source": [
        "pip install tokenizers"
      ],
      "execution_count": null,
      "outputs": []
    },
    {
      "cell_type": "markdown",
      "metadata": {
        "id": "kMxW7BHMXM5Y"
      },
      "source": [
        "3. Calculate the baseline"
      ]
    },
    {
      "cell_type": "code",
      "metadata": {
        "id": "gl5IWbKZW9KI"
      },
      "source": [
        "!python baseline.py"
      ],
      "execution_count": null,
      "outputs": []
    },
    {
      "cell_type": "markdown",
      "metadata": {
        "id": "Tth92NmDXTpu"
      },
      "source": [
        "4. Pretrain the parent and save model at all epochs"
      ]
    },
    {
      "cell_type": "code",
      "metadata": {
        "id": "-VdPkNQyXZEU"
      },
      "source": [
        "!python parent.py"
      ],
      "execution_count": null,
      "outputs": []
    },
    {
      "cell_type": "markdown",
      "metadata": {
        "id": "zSoAt4ZIXk-S"
      },
      "source": [
        "5. Fine tune the model on the child language pair"
      ]
    },
    {
      "cell_type": "code",
      "metadata": {
        "id": "5_YYN_FhXhE2"
      },
      "source": [
        "!python child.py"
      ],
      "execution_count": null,
      "outputs": []
    }
  ]
}